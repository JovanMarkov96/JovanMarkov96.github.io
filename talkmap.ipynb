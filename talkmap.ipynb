{
 "cells": [
  {
   "cell_type": "markdown",
   "metadata": {},
   "source": [
    "# Leaflet cluster map of talk locations\n",
    "\n",
    "Run this from the _talks/ directory, which contains .md files of all your talks. This scrapes the location YAML field from each .md file, geolocates it with geopy/Nominatim, and uses the getorg library to output data, HTML, and Javascript for a standalone cluster map."
   ]
  },
  {
   "cell_type": "code",
   "execution_count": 1,
   "metadata": {
    "collapsed": false
   },
   "outputs": [
    {
     "name": "stdout",
     "output_type": "stream",
     "text": [
      "Requirement already satisfied: getorg in c:\\users\\jovanm\\anaconda3\\lib\\site-packages (0.3.1)\n",
      "Requirement already satisfied: geopy in c:\\users\\jovanm\\anaconda3\\lib\\site-packages (from getorg) (2.4.1)\n",
      "Requirement already satisfied: pygithub in c:\\users\\jovanm\\anaconda3\\lib\\site-packages (from getorg) (2.5.0)\n",
      "Requirement already satisfied: retrying in c:\\users\\jovanm\\anaconda3\\lib\\site-packages (from getorg) (1.3.4)\n",
      "Requirement already satisfied: geographiclib<3,>=1.52 in c:\\users\\jovanm\\anaconda3\\lib\\site-packages (from geopy->getorg) (2.0)\n",
      "Requirement already satisfied: pynacl>=1.4.0 in c:\\users\\jovanm\\anaconda3\\lib\\site-packages (from pygithub->getorg) (1.5.0)\n",
      "Requirement already satisfied: requests>=2.14.0 in c:\\users\\jovanm\\anaconda3\\lib\\site-packages (from pygithub->getorg) (2.31.0)\n",
      "Requirement already satisfied: pyjwt>=2.4.0 in c:\\users\\jovanm\\anaconda3\\lib\\site-packages (from pyjwt[crypto]>=2.4.0->pygithub->getorg) (2.4.0)\n",
      "Requirement already satisfied: typing-extensions>=4.0.0 in c:\\users\\jovanm\\anaconda3\\lib\\site-packages (from pygithub->getorg) (4.9.0)\n",
      "Requirement already satisfied: urllib3>=1.26.0 in c:\\users\\jovanm\\anaconda3\\lib\\site-packages (from pygithub->getorg) (2.0.7)\n",
      "Requirement already satisfied: Deprecated in c:\\users\\jovanm\\anaconda3\\lib\\site-packages (from pygithub->getorg) (1.2.18)\n",
      "Requirement already satisfied: six>=1.7.0 in c:\\users\\jovanm\\anaconda3\\lib\\site-packages (from retrying->getorg) (1.16.0)\n",
      "Requirement already satisfied: cryptography>=3.3.1 in c:\\users\\jovanm\\anaconda3\\lib\\site-packages (from pyjwt[crypto]>=2.4.0->pygithub->getorg) (42.0.2)\n",
      "Requirement already satisfied: cffi>=1.4.1 in c:\\users\\jovanm\\anaconda3\\lib\\site-packages (from pynacl>=1.4.0->pygithub->getorg) (1.16.0)\n",
      "Requirement already satisfied: charset-normalizer<4,>=2 in c:\\users\\jovanm\\anaconda3\\lib\\site-packages (from requests>=2.14.0->pygithub->getorg) (2.0.4)\n",
      "Requirement already satisfied: idna<4,>=2.5 in c:\\users\\jovanm\\anaconda3\\lib\\site-packages (from requests>=2.14.0->pygithub->getorg) (3.4)\n",
      "Requirement already satisfied: certifi>=2017.4.17 in c:\\users\\jovanm\\anaconda3\\lib\\site-packages (from requests>=2.14.0->pygithub->getorg) (2024.2.2)\n",
      "Requirement already satisfied: wrapt<2,>=1.10 in c:\\users\\jovanm\\anaconda3\\lib\\site-packages (from Deprecated->pygithub->getorg) (1.14.1)\n",
      "Requirement already satisfied: pycparser in c:\\users\\jovanm\\anaconda3\\lib\\site-packages (from cffi>=1.4.1->pynacl>=1.4.0->pygithub->getorg) (2.21)\n",
      "Iywidgets and ipyleaflet support disabled. You must be in a Jupyter notebook to use this feature.\n",
      "Error raised:\n",
      "No module named 'ipyleaflet'\n",
      "Check that you have enabled ipyleaflet in Jupyter with:\n",
      "    jupyter nbextension enable --py ipyleaflet\n"
     ]
    },
    {
     "name": "stderr",
     "output_type": "stream",
     "text": [
      "\n",
      "[notice] A new release of pip is available: 24.3.1 -> 25.0\n",
      "[notice] To update, run: python.exe -m pip install --upgrade pip\n"
     ]
    }
   ],
   "source": [
    "!pip install getorg --upgrade\n",
    "import glob\n",
    "import getorg\n",
    "from geopy import Nominatim"
   ]
  },
  {
   "cell_type": "code",
   "execution_count": 2,
   "metadata": {
    "collapsed": false
   },
   "outputs": [],
   "source": [
    "g = glob.glob(\"*.md\")"
   ]
  },
  {
   "cell_type": "code",
   "execution_count": 5,
   "metadata": {
    "collapsed": true
   },
   "outputs": [],
   "source": [
    "geocoder = Nominatim(user_agent=\"custom-user-agent\")\n",
    "location_dict = {}\n",
    "location = \"\"\n",
    "permalink = \"\"\n",
    "title = \"\""
   ]
  },
  {
   "cell_type": "code",
   "execution_count": 8,
   "metadata": {
    "collapsed": false
   },
   "outputs": [],
   "source": [
    "for file in g:\n",
    "    with open(file, 'r') as f:\n",
    "        lines = f.read()\n",
    "        if 'location: \"' in lines:\n",
    "            loc_start = lines.find('location: \"') + len('location: \"')\n",
    "            loc_end = lines.find('\"', loc_start)\n",
    "            location = lines[loc_start:loc_end]\n",
    "            \n",
    "            location_dict[location] = geocoder.geocode(location)\n",
    "            print(location, \"\\n\", location_dict[location])\n"
   ]
  },
  {
   "cell_type": "code",
   "execution_count": 9,
   "metadata": {
    "collapsed": false
   },
   "outputs": [
    {
     "data": {
      "text/plain": [
       "'Written map to ../talkmap/'"
      ]
     },
     "execution_count": 9,
     "metadata": {},
     "output_type": "execute_result"
    }
   ],
   "source": [
    "m = getorg.orgmap.create_map_obj()\n",
    "getorg.orgmap.output_html_cluster_map(location_dict, folder_name=\"../talkmap\", hashed_usernames=False)"
   ]
  },
  {
   "cell_type": "code",
   "execution_count": null,
   "metadata": {
    "collapsed": true
   },
   "outputs": [],
   "source": []
  }
 ],
 "metadata": {
  "anaconda-cloud": {},
  "kernelspec": {
   "display_name": "base",
   "language": "python",
   "name": "python3"
  },
  "language_info": {
   "codemirror_mode": {
    "name": "ipython",
    "version": 3
   },
   "file_extension": ".py",
   "mimetype": "text/x-python",
   "name": "python",
   "nbconvert_exporter": "python",
   "pygments_lexer": "ipython3",
   "version": "3.11.7"
  }
 },
 "nbformat": 4,
 "nbformat_minor": 0
}
