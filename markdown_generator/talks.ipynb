{
 "cells": [
  {
   "cell_type": "markdown",
   "metadata": {
    "deletable": true,
    "editable": true
   },
   "source": [
    "# Talks markdown generator for academicpages\n",
    "\n",
    "Takes a TSV of talks with metadata and converts them for use with [academicpages.github.io](academicpages.github.io). This is an interactive Jupyter notebook ([see more info here](http://jupyter-notebook-beginner-guide.readthedocs.io/en/latest/what_is_jupyter.html)). The core python code is also in `talks.py`. Run either from the `markdown_generator` folder after replacing `talks.tsv` with one containing your data.\n",
    "\n",
    "TODO: Make this work with BibTex and other databases, rather than Stuart's non-standard TSV format and citation style."
   ]
  },
  {
   "cell_type": "code",
   "execution_count": 1,
   "metadata": {
    "collapsed": false,
    "deletable": true,
    "editable": true
   },
   "outputs": [],
   "source": [
    "import pandas as pd\n",
    "import os"
   ]
  },
  {
   "cell_type": "markdown",
   "metadata": {},
   "source": [
    "## Data format\n",
    "\n",
    "The TSV needs to have the following columns: title, type, url_slug, venue, date, location, talk_url, description, with a header at the top. Many of these fields can be blank, but the columns must be in the TSV.\n",
    "\n",
    "- Fields that cannot be blank: `title`, `url_slug`, `date`. All else can be blank. `type` defaults to \"Talk\" \n",
    "- `date` must be formatted as YYYY-MM-DD.\n",
    "- `url_slug` will be the descriptive part of the .md file and the permalink URL for the page about the paper. \n",
    "    - The .md file will be `YYYY-MM-DD-[url_slug].md` and the permalink will be `https://[yourdomain]/talks/YYYY-MM-DD-[url_slug]`\n",
    "    - The combination of `url_slug` and `date` must be unique, as it will be the basis for your filenames\n",
    "\n",
    "This is how the raw file looks (it doesn't look pretty, use a spreadsheet or other program to edit and create)."
   ]
  },
  {
   "cell_type": "code",
   "execution_count": 2,
   "metadata": {
    "collapsed": false
   },
   "outputs": [
    {
     "name": "stdout",
     "output_type": "stream",
     "text": [
      "title\ttype\turl_slug\tvenue\tdate\tlocation\ttalk_url\tdescription\n",
      "Tutorial in Theoretical Classical Mechanics\tTutorial\ttutorial-theory-cm\tPetnica Science Center - Physics Seminar\t2019-04-17\tPetnica, Serbia\t\tI conducted a tutorial on theoretical classical mechanics for students attending the Physics Seminar 2. The session began with a lecture introducing the concepts of Lagrangian, action, and the variational principle. This was followed by a problem-solving session. The lecture was based on the Feynman Lectures on Physics, and the problems were derived from the Landau and Lifshitz Classical Mechanics textbook. [PDF with the tutorial material (in Serbian).](http://fiz.petnica.rs/wp-content/uploads/2013/05/Teorijska-mehanika.pdf)\n",
      "Digital Predistortion of Optical Field of a Fast and High-Fidelity Entangling Gate for Trapped Ion Qubits\tConference proceedings talk\tdigital-predistortion\t54th Annual Meeting of the APS Division of Atomic, Molecular and Optical Physics\t2023-06-08\tSpokane, Washington\t\tTapped ions qubits are a leading quantum computing platform. In these systems, entangling gates are performed by driving the normal modes of motion of the ion chain, generating a spin-dependent force that mediates qubit-qubit interactions. In recent years, there have been many theoretical proposals and experimental demonstrations which have generalized this approach in order to increase the fidelity, robustness, and programmability of the entangling operation. These are all performed by carefully designing the electromagnetic fields which drive the ion chain. However, various components such as amplifiers and modulators, which are used to generate the required field modulations have inherent non-linear responses, resulting in an inaccurate and low-fidelity implementation of the entangling operations. We propose a method to mitigate this degradation by using digital pre-distortion of the modulating waveform. Specifically, we measure the temporal and amplitude non-linear response of an acousto-optic modulator used to modulate the optical field driving the ion chain, and use it in a feed-forward correction of the desired waveform. We measure that the resulting optical field more closely resembles the desired spectrum. Moreover, we use the pre-distorted signal to generate a multi-tone two-qubit entangling gate described in Ref. [1]. We show that our method allows us to utilize all the available optical power in order to drive fast entanglement gates, without incurring fidelity loss due to unwanted non-linear effects. Our method is straightforward to implement, even in complicated waveform modulation, such as Refs. [2,3], which require many driving tones in order to generate multi-qubit robust entanglement gates. **Presenter:** Jovan Markov (Weizmann Institute of Science) **Authors:** Jovan Markov (Weizmann Institute of Science) Yotam Shapira (Weizmann Institute of Science) Nitzan Akerman (Weizmann Institute of Science) Roee Ozeri (Weizmann Institute of Science) **References:** 1. Phys. Rev. Lett. 121, 180502 (2018) 2. Phys. Rev. A 101, 032330 (2020) 3. Phys. Rev. Lett. 130, 030602 (2023) For more details, visit the [conference website](https://meetings.aps.org/Meeting/DAMOP23/Session/U09.2).\n",
      "Quantum Computers and What to Do with Them\tTalk\tquantum-computers\tAnnual New Year Seminar, Faculty of Physics, University of Belgrade\t2023-12-29\tBelgrade, Serbia\t\tThis talk, presented in Belgrade, covers the topic of quantum computers and their potential applications. It was delivered at the Annual New Year Seminar at the Faculty of Physics, University of Belgrade. The discussion includes an overview of quantum computing platforms and a project we did in Ozeri lab regarding quantum simulations with trapped ions.\n"
     ]
    }
   ],
   "source": [
    "!type talks.tsv"
   ]
  },
  {
   "cell_type": "markdown",
   "metadata": {},
   "source": [
    "## Import TSV\n",
    "\n",
    "Pandas makes this easy with the read_csv function. We are using a TSV, so we specify the separator as a tab, or `\\t`.\n",
    "\n",
    "I found it important to put this data in a tab-separated values format, because there are a lot of commas in this kind of data and comma-separated values can get messed up. However, you can modify the import statement, as pandas also has read_excel(), read_json(), and others."
   ]
  },
  {
   "cell_type": "code",
   "execution_count": 3,
   "metadata": {
    "collapsed": false,
    "deletable": true,
    "editable": true
   },
   "outputs": [
    {
     "data": {
      "text/html": [
       "<div>\n",
       "<style scoped>\n",
       "    .dataframe tbody tr th:only-of-type {\n",
       "        vertical-align: middle;\n",
       "    }\n",
       "\n",
       "    .dataframe tbody tr th {\n",
       "        vertical-align: top;\n",
       "    }\n",
       "\n",
       "    .dataframe thead th {\n",
       "        text-align: right;\n",
       "    }\n",
       "</style>\n",
       "<table border=\"1\" class=\"dataframe\">\n",
       "  <thead>\n",
       "    <tr style=\"text-align: right;\">\n",
       "      <th></th>\n",
       "      <th>title</th>\n",
       "      <th>type</th>\n",
       "      <th>url_slug</th>\n",
       "      <th>venue</th>\n",
       "      <th>date</th>\n",
       "      <th>location</th>\n",
       "      <th>talk_url</th>\n",
       "      <th>description</th>\n",
       "    </tr>\n",
       "  </thead>\n",
       "  <tbody>\n",
       "    <tr>\n",
       "      <th>0</th>\n",
       "      <td>Tutorial in Theoretical Classical Mechanics</td>\n",
       "      <td>Tutorial</td>\n",
       "      <td>tutorial-theory-cm</td>\n",
       "      <td>Petnica Science Center - Physics Seminar</td>\n",
       "      <td>2019-04-17</td>\n",
       "      <td>Petnica, Serbia</td>\n",
       "      <td>NaN</td>\n",
       "      <td>I conducted a tutorial on theoretical classica...</td>\n",
       "    </tr>\n",
       "    <tr>\n",
       "      <th>1</th>\n",
       "      <td>Digital Predistortion of Optical Field of a Fa...</td>\n",
       "      <td>Conference proceedings talk</td>\n",
       "      <td>digital-predistortion</td>\n",
       "      <td>54th Annual Meeting of the APS Division of Ato...</td>\n",
       "      <td>2023-06-08</td>\n",
       "      <td>Spokane, Washington</td>\n",
       "      <td>NaN</td>\n",
       "      <td>Tapped ions qubits are a leading quantum compu...</td>\n",
       "    </tr>\n",
       "    <tr>\n",
       "      <th>2</th>\n",
       "      <td>Quantum Computers and What to Do with Them</td>\n",
       "      <td>Talk</td>\n",
       "      <td>quantum-computers</td>\n",
       "      <td>Annual New Year Seminar, Faculty of Physics, U...</td>\n",
       "      <td>2023-12-29</td>\n",
       "      <td>Belgrade, Serbia</td>\n",
       "      <td>NaN</td>\n",
       "      <td>This talk, presented in Belgrade, covers the t...</td>\n",
       "    </tr>\n",
       "  </tbody>\n",
       "</table>\n",
       "</div>"
      ],
      "text/plain": [
       "                                               title  \\\n",
       "0        Tutorial in Theoretical Classical Mechanics   \n",
       "1  Digital Predistortion of Optical Field of a Fa...   \n",
       "2         Quantum Computers and What to Do with Them   \n",
       "\n",
       "                          type               url_slug  \\\n",
       "0                     Tutorial     tutorial-theory-cm   \n",
       "1  Conference proceedings talk  digital-predistortion   \n",
       "2                         Talk      quantum-computers   \n",
       "\n",
       "                                               venue        date  \\\n",
       "0           Petnica Science Center - Physics Seminar  2019-04-17   \n",
       "1  54th Annual Meeting of the APS Division of Ato...  2023-06-08   \n",
       "2  Annual New Year Seminar, Faculty of Physics, U...  2023-12-29   \n",
       "\n",
       "              location  talk_url  \\\n",
       "0      Petnica, Serbia       NaN   \n",
       "1  Spokane, Washington       NaN   \n",
       "2     Belgrade, Serbia       NaN   \n",
       "\n",
       "                                         description  \n",
       "0  I conducted a tutorial on theoretical classica...  \n",
       "1  Tapped ions qubits are a leading quantum compu...  \n",
       "2  This talk, presented in Belgrade, covers the t...  "
      ]
     },
     "execution_count": 3,
     "metadata": {},
     "output_type": "execute_result"
    }
   ],
   "source": [
    "talks = pd.read_csv(\"talks.tsv\", sep=\"\\t\", header=0)\n",
    "talks"
   ]
  },
  {
   "cell_type": "markdown",
   "metadata": {},
   "source": [
    "## Escape special characters\n",
    "\n",
    "YAML is very picky about how it takes a valid string, so we are replacing single and double quotes (and ampersands) with their HTML encoded equivilents. This makes them look not so readable in raw format, but they are parsed and rendered nicely."
   ]
  },
  {
   "cell_type": "code",
   "execution_count": 4,
   "metadata": {
    "collapsed": false,
    "deletable": true,
    "editable": true
   },
   "outputs": [],
   "source": [
    "html_escape_table = {\n",
    "    \"&\": \"&amp;\",\n",
    "    '\"': \"&quot;\",\n",
    "    \"'\": \"&apos;\"\n",
    "    }\n",
    "\n",
    "def html_escape(text):\n",
    "    if type(text) is str:\n",
    "        return \"\".join(html_escape_table.get(c,c) for c in text)\n",
    "    else:\n",
    "        return \"False\""
   ]
  },
  {
   "cell_type": "markdown",
   "metadata": {},
   "source": [
    "## Creating the markdown files\n",
    "\n",
    "This is where the heavy lifting is done. This loops through all the rows in the TSV dataframe, then starts to concatentate a big string (```md```) that contains the markdown for each type. It does the YAML metadata first, then does the description for the individual page."
   ]
  },
  {
   "cell_type": "code",
   "execution_count": 5,
   "metadata": {
    "collapsed": false,
    "deletable": true,
    "editable": true
   },
   "outputs": [],
   "source": [
    "loc_dict = {}\n",
    "\n",
    "for row, item in talks.iterrows():\n",
    "    \n",
    "    md_filename = str(item.date) + \"-\" + item.url_slug + \".md\"\n",
    "    html_filename = str(item.date) + \"-\" + item.url_slug \n",
    "    year = item.date[:4]\n",
    "    \n",
    "    md = \"---\\ntitle: \\\"\"   + item.title + '\"\\n'\n",
    "    md += \"collection: talks\" + \"\\n\"\n",
    "    \n",
    "    if len(str(item.type)) > 3:\n",
    "        md += 'type: \"' + item.type + '\"\\n'\n",
    "    else:\n",
    "        md += 'type: \"Talk\"\\n'\n",
    "    \n",
    "    md += \"permalink: /talks/\" + html_filename + \"\\n\"\n",
    "    \n",
    "    if len(str(item.venue)) > 3:\n",
    "        md += 'venue: \"' + item.venue + '\"\\n'\n",
    "        \n",
    "    if len(str(item.location)) > 3:\n",
    "        md += \"date: \" + str(item.date) + \"\\n\"\n",
    "    \n",
    "    if len(str(item.location)) > 3:\n",
    "        md += 'location: \"' + str(item.location) + '\"\\n'\n",
    "           \n",
    "    md += \"---\\n\"\n",
    "    \n",
    "    \n",
    "    if len(str(item.talk_url)) > 3:\n",
    "        md += \"\\n[More information here](\" + item.talk_url + \")\\n\" \n",
    "        \n",
    "    \n",
    "    if len(str(item.description)) > 3:\n",
    "        md += \"\\n\" + html_escape(item.description) + \"\\n\"\n",
    "        \n",
    "        \n",
    "    md_filename = os.path.basename(md_filename)\n",
    "    #print(md)\n",
    "    \n",
    "    with open(\"../_talks/\" + md_filename, 'w') as f:\n",
    "        f.write(md)"
   ]
  },
  {
   "cell_type": "markdown",
   "metadata": {},
   "source": [
    "These files are in the talks directory, one directory below where we're working from."
   ]
  },
  {
   "cell_type": "code",
   "execution_count": 6,
   "metadata": {
    "collapsed": false,
    "deletable": true,
    "editable": true
   },
   "outputs": [
    {
     "name": "stdout",
     "output_type": "stream",
     "text": [
      "['2013-03-01-tutorial-Petnica.md', '2019-04-17-tutorial-theory-cm.md', '2023-06-08-digital-predistortion.md', '2023-06-08-talk-DAMOP.md', '2023-12-29-quantum-computers.md', '2023-12-29-talk-FF.md']\n"
     ]
    }
   ],
   "source": [
    "import os\n",
    "\n",
    "# List files in the ../_talks directory\n",
    "files = os.listdir('../_talks')\n",
    "print(files)"
   ]
  },
  {
   "cell_type": "code",
   "execution_count": 7,
   "metadata": {
    "collapsed": false,
    "deletable": true,
    "editable": true
   },
   "outputs": [
    {
     "ename": "FileNotFoundError",
     "evalue": "[Errno 2] No such file or directory: '../_talks/2013-03-01-tutorial-1.md'",
     "output_type": "error",
     "traceback": [
      "\u001b[1;31m---------------------------------------------------------------------------\u001b[0m",
      "\u001b[1;31mFileNotFoundError\u001b[0m                         Traceback (most recent call last)",
      "Cell \u001b[1;32mIn[7], line 1\u001b[0m\n\u001b[1;32m----> 1\u001b[0m \u001b[38;5;28;01mwith\u001b[39;00m \u001b[38;5;28mopen\u001b[39m(\u001b[38;5;124m'\u001b[39m\u001b[38;5;124m../_talks/2013-03-01-tutorial-1.md\u001b[39m\u001b[38;5;124m'\u001b[39m, \u001b[38;5;124m'\u001b[39m\u001b[38;5;124mr\u001b[39m\u001b[38;5;124m'\u001b[39m) \u001b[38;5;28;01mas\u001b[39;00m file:\n\u001b[0;32m      2\u001b[0m \tcontent \u001b[38;5;241m=\u001b[39m file\u001b[38;5;241m.\u001b[39mread()\n\u001b[0;32m      3\u001b[0m \t\u001b[38;5;28mprint\u001b[39m(content)\n",
      "File \u001b[1;32mc:\\Users\\jovanm\\anaconda3\\Lib\\site-packages\\IPython\\core\\interactiveshell.py:310\u001b[0m, in \u001b[0;36m_modified_open\u001b[1;34m(file, *args, **kwargs)\u001b[0m\n\u001b[0;32m    303\u001b[0m \u001b[38;5;28;01mif\u001b[39;00m file \u001b[38;5;129;01min\u001b[39;00m {\u001b[38;5;241m0\u001b[39m, \u001b[38;5;241m1\u001b[39m, \u001b[38;5;241m2\u001b[39m}:\n\u001b[0;32m    304\u001b[0m     \u001b[38;5;28;01mraise\u001b[39;00m \u001b[38;5;167;01mValueError\u001b[39;00m(\n\u001b[0;32m    305\u001b[0m         \u001b[38;5;124mf\u001b[39m\u001b[38;5;124m\"\u001b[39m\u001b[38;5;124mIPython won\u001b[39m\u001b[38;5;124m'\u001b[39m\u001b[38;5;124mt let you open fd=\u001b[39m\u001b[38;5;132;01m{\u001b[39;00mfile\u001b[38;5;132;01m}\u001b[39;00m\u001b[38;5;124m by default \u001b[39m\u001b[38;5;124m\"\u001b[39m\n\u001b[0;32m    306\u001b[0m         \u001b[38;5;124m\"\u001b[39m\u001b[38;5;124mas it is likely to crash IPython. If you know what you are doing, \u001b[39m\u001b[38;5;124m\"\u001b[39m\n\u001b[0;32m    307\u001b[0m         \u001b[38;5;124m\"\u001b[39m\u001b[38;5;124myou can use builtins\u001b[39m\u001b[38;5;124m'\u001b[39m\u001b[38;5;124m open.\u001b[39m\u001b[38;5;124m\"\u001b[39m\n\u001b[0;32m    308\u001b[0m     )\n\u001b[1;32m--> 310\u001b[0m \u001b[38;5;28;01mreturn\u001b[39;00m io_open(file, \u001b[38;5;241m*\u001b[39margs, \u001b[38;5;241m*\u001b[39m\u001b[38;5;241m*\u001b[39mkwargs)\n",
      "\u001b[1;31mFileNotFoundError\u001b[0m: [Errno 2] No such file or directory: '../_talks/2013-03-01-tutorial-1.md'"
     ]
    }
   ],
   "source": [
    "with open('../_talks/2013-03-01-tutorial-1.md', 'r') as file:\n",
    "\tcontent = file.read()\n",
    "\tprint(content)"
   ]
  },
  {
   "cell_type": "code",
   "execution_count": null,
   "metadata": {},
   "outputs": [],
   "source": []
  }
 ],
 "metadata": {
  "kernelspec": {
   "display_name": "base",
   "language": "python",
   "name": "python3"
  },
  "language_info": {
   "codemirror_mode": {
    "name": "ipython",
    "version": 3
   },
   "file_extension": ".py",
   "mimetype": "text/x-python",
   "name": "python",
   "nbconvert_exporter": "python",
   "pygments_lexer": "ipython3",
   "version": "3.11.7"
  }
 },
 "nbformat": 4,
 "nbformat_minor": 0
}
